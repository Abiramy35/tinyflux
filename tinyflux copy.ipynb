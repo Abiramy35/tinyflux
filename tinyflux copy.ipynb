{
 "cells": [
  {
   "cell_type": "markdown",
   "metadata": {},
   "source": [
    "# Tinyflux: Example with fictious bank transactions"
   ]
  },
  {
   "cell_type": "code",
   "execution_count": 1,
   "metadata": {
    "tags": []
   },
   "outputs": [],
   "source": [
    "import csv\n",
    "from tinyflux import TinyFlux, Point, FieldQuery, TagQuery, TimeQuery\n",
    "from datetime import datetime, timezone, timedelta\n",
    "\n",
    "# Settings\n",
    "import warnings\n",
    "warnings.filterwarnings(\"ignore\")\n",
    "\n",
    "# Abkürzungen für Query-Typen\n",
    "time = TimeQuery()\n",
    "tags = TagQuery()\n",
    "field = FieldQuery()\n"
   ]
  },
  {
   "cell_type": "markdown",
   "metadata": {},
   "source": [
    "## Initialize the TinyFlux database"
   ]
  },
  {
   "cell_type": "code",
   "execution_count": 2,
   "metadata": {},
   "outputs": [],
   "source": [
    "db = TinyFlux(\"temperatures.db\")"
   ]
  },
  {
   "cell_type": "markdown",
   "metadata": {
    "tags": []
   },
   "source": [
    "## Writing a CSV file into Tinyflux"
   ]
  },
  {
   "cell_type": "code",
   "execution_count": 3,
   "metadata": {
    "tags": []
   },
   "outputs": [],
   "source": [
    "# Read CSV and insert data into TinyFlux \n",
    "with open(\"example_data/synthetic_temperature_readings.csv\", mode=\"r\") as file:\n",
    "    reader = csv.DictReader(file)\n",
    "    for row in reader:\n",
    "        point = Point(\n",
    "            time=datetime(2024, 1, 1, 12, 0, tzinfo=timezone.utc),\n",
    "            measurement=\"transactions\",\n",
    "            fields={\"temperature\": float(row[\"temperature\"])},  # Only numeric fields\n",
    "            tags={\n",
    "                \"sensor_id\": row[\"sensor_id\"],\n",
    "                \"status\": row[\"status\"],\n",
    "                \"device_type\": \"router\"  # New tag added manually\n",
    "            }\n",
    "        )\n",
    "        db.insert(point)"
   ]
  },
  {
   "cell_type": "markdown",
   "metadata": {},
   "source": [
    "## Writing manually into Tinyflux"
   ]
  },
  {
   "cell_type": "markdown",
   "metadata": {},
   "source": [
    "##Lösung Aufgabe 2"
   ]
  },
  {
   "cell_type": "code",
   "execution_count": 4,
   "metadata": {
    "tags": []
   },
   "outputs": [
    {
     "name": "stdout",
     "output_type": "stream",
     "text": [
      "\n",
      "Manual Entries:\n",
      "Point(time=2024-01-01T12:00:00+00:00, measurement=_default, tags=sensor_id:sensor_1; status:operational; device_type:router; location:Room_A, fields=temperature:21)\n",
      "Point(time=2024-01-01T12:01:00+00:00, measurement=_default, tags=sensor_id:sensor_1; status:operational; device_type:router; location:Room_A, fields=temperature:22)\n",
      "Point(time=2024-01-01T12:02:00+00:00, measurement=_default, tags=sensor_id:sensor_1; status:operational; device_type:router; location:Room_A, fields=temperature:23)\n"
     ]
    }
   ],
   "source": [
    "# Create manual records\n",
    "p1 = Point(\n",
    "    time=datetime(2024, 1, 1, 12, 0, tzinfo=timezone.utc),\n",
    "    tags={\"sensor_id\": \"sensor_1\", \"status\": \"operational\", \"device_type\": \"router\", \"location\": \"Room_A\"},\n",
    "    fields={\"temperature\": 21}\n",
    ")\n",
    "\n",
    "p2 = Point(\n",
    "    time=datetime(2024, 1, 1, 12, 1, tzinfo=timezone.utc),\n",
    "    tags={\"sensor_id\": \"sensor_1\", \"status\": \"operational\", \"device_type\": \"router\", \"location\": \"Room_A\"},\n",
    "    fields={\"temperature\": 22}\n",
    ")\n",
    "\n",
    "p3 = Point(\n",
    "    time=datetime(2024, 1, 1, 12, 2, tzinfo=timezone.utc),\n",
    "    tags={\"sensor_id\": \"sensor_1\", \"status\": \"operational\", \"device_type\": \"router\", \"location\": \"Room_A\"},\n",
    "    fields={\"temperature\": 23}\n",
    ")\n",
    "\n",
    "p4 = Point(\n",
    "    time=datetime(2024, 1, 1, 12, 3, tzinfo=timezone.utc),\n",
    "    tags={\"sensor_id\": \"sensor_1\", \"status\": \"operational\", \"device_type\": \"router\", \"location\": \"Room_A\"},\n",
    "    fields={\"temperature\": 24}\n",
    ")\n",
    "\n",
    "p5 = Point(\n",
    "    time=datetime(2024, 1, 1, 12, 4, tzinfo=timezone.utc),\n",
    "    tags={\"sensor_id\": \"sensor_1\", \"status\": \"operational\", \"device_type\": \"router\", \"location\": \"Room_A\"},\n",
    "    fields={\"temperature\": 25}\n",
    ")\n",
    "\n",
    "# Insert into the DB.\n",
    "db.insert_multiple([p1, p2, p3, p4, p5])\n",
    "\n",
    "# Assuming previous_results is a list of results from the previous operation\n",
    "previous_results = [p1, p2, p3]  # Replace with actual previous results\n",
    "\n",
    "# Print the results\n",
    "print(\"\\nManual Entries:\")\n",
    "for result in previous_results:\n",
    "    print(result)\n",
    "\n"
   ]
  },
  {
   "cell_type": "markdown",
   "metadata": {},
   "source": [
    "## Querying by Time"
   ]
  },
  {
   "cell_type": "code",
   "execution_count": 19,
   "metadata": {
    "tags": []
   },
   "outputs": [
    {
     "name": "stdout",
     "output_type": "stream",
     "text": [
      "\n",
      "Time Query Count:\n",
      "999\n"
     ]
    }
   ],
   "source": [
    "# Search for a time value\n",
    "Time = TimeQuery()\n",
    "time_start = Time >= datetime(2023, 1, 1, tzinfo=timezone.utc)\n",
    "time_end = Time < datetime(2023, 12, 31, tzinfo=timezone.utc)\n",
    "time_count = db.count(time_start & time_end)\n",
    "print(\"\\nTime Query Count:\")\n",
    "print(time_count)\n"
   ]
  },
  {
   "cell_type": "markdown",
   "metadata": {},
   "source": [
    "### Lösung Aufgabe 3"
   ]
  },
  {
   "cell_type": "code",
   "execution_count": 23,
   "metadata": {},
   "outputs": [
    {
     "name": "stdout",
     "output_type": "stream",
     "text": [
      "\n",
      "Entries from the database:\n",
      "Point(time=2023-09-15T05:47:23+00:00, measurement=blockchain_transactions, tags=sensor_id:33; status:operational, fields=temperature:1.7896046979604936)\n",
      "Point(time=2023-09-15T14:32:04+00:00, measurement=blockchain_transactions, tags=sensor_id:38; status:maintenance, fields=temperature:28.800010351771476)\n",
      "Point(time=2023-09-15T23:16:45+00:00, measurement=blockchain_transactions, tags=sensor_id:6; status:operational, fields=temperature:10.26550915428717)\n",
      "Point(time=2023-09-16T08:01:26+00:00, measurement=blockchain_transactions, tags=sensor_id:58; status:operational, fields=temperature:20.092769183100426)\n",
      "Point(time=2023-09-16T16:46:07+00:00, measurement=blockchain_transactions, tags=sensor_id:44; status:operational, fields=temperature:21.627026661315305)\n",
      "Point(time=2023-09-17T01:30:48+00:00, measurement=blockchain_transactions, tags=sensor_id:45; status:operational, fields=temperature:8.642431859446724)\n",
      "Point(time=2023-09-17T10:15:29+00:00, measurement=blockchain_transactions, tags=sensor_id:32; status:operational, fields=temperature:15.630760260290259)\n",
      "Point(time=2023-09-17T19:00:10+00:00, measurement=blockchain_transactions, tags=sensor_id:45; status:operational, fields=temperature:10.65155873238485)\n",
      "Point(time=2023-09-18T03:44:51+00:00, measurement=blockchain_transactions, tags=sensor_id:61; status:offline, fields=temperature:-6.543360690669028)\n",
      "Point(time=2023-09-18T12:29:32+00:00, measurement=blockchain_transactions, tags=sensor_id:47; status:operational, fields=temperature:11.858269440841326)\n",
      "Point(time=2023-09-18T21:14:14+00:00, measurement=blockchain_transactions, tags=sensor_id:21; status:operational, fields=temperature:-5.130330372322391)\n",
      "Point(time=2023-09-19T05:58:55+00:00, measurement=blockchain_transactions, tags=sensor_id:80; status:operational, fields=temperature:10.251039954016075)\n",
      "Point(time=2023-09-19T14:43:36+00:00, measurement=blockchain_transactions, tags=sensor_id:85; status:offline, fields=temperature:19.645919991589093)\n",
      "Point(time=2023-09-19T23:28:17+00:00, measurement=blockchain_transactions, tags=sensor_id:75; status:operational, fields=temperature:18.970744967175037)\n",
      "Point(time=2023-09-20T08:12:58+00:00, measurement=blockchain_transactions, tags=sensor_id:36; status:operational, fields=temperature:23.13106395041602)\n",
      "Point(time=2023-09-20T16:57:39+00:00, measurement=blockchain_transactions, tags=sensor_id:99; status:operational, fields=temperature:-5.236924602268686)\n",
      "Point(time=2023-09-21T01:42:20+00:00, measurement=blockchain_transactions, tags=sensor_id:19; status:operational, fields=temperature:22.606162276521893)\n",
      "Point(time=2023-09-21T10:27:01+00:00, measurement=blockchain_transactions, tags=sensor_id:20; status:operational, fields=temperature:5.607402834822354)\n",
      "Point(time=2023-09-21T19:11:42+00:00, measurement=blockchain_transactions, tags=sensor_id:57; status:operational, fields=temperature:9.952297306855556)\n",
      "Point(time=2023-09-22T03:56:23+00:00, measurement=blockchain_transactions, tags=sensor_id:18; status:operational, fields=temperature:32.89931269613529)\n",
      "Point(time=2023-09-22T12:41:04+00:00, measurement=blockchain_transactions, tags=sensor_id:47; status:offline, fields=temperature:-9.548479793522487)\n",
      "Point(time=2023-09-22T21:25:45+00:00, measurement=blockchain_transactions, tags=sensor_id:49; status:operational, fields=temperature:19.42063166703027)\n",
      "Point(time=2023-09-23T06:10:27+00:00, measurement=blockchain_transactions, tags=sensor_id:14; status:operational, fields=temperature:19.93569900500538)\n",
      "Point(time=2023-09-23T14:55:08+00:00, measurement=blockchain_transactions, tags=sensor_id:15; status:operational, fields=temperature:9.832988817178098)\n",
      "Point(time=2023-09-23T23:39:49+00:00, measurement=blockchain_transactions, tags=sensor_id:31; status:operational, fields=temperature:1.8513928554168082)\n",
      "Point(time=2023-09-24T08:24:30+00:00, measurement=blockchain_transactions, tags=sensor_id:1; status:operational, fields=temperature:1.7337019130775548)\n",
      "Point(time=2023-09-24T17:09:11+00:00, measurement=blockchain_transactions, tags=sensor_id:54; status:operational, fields=temperature:34.18548348303763)\n",
      "Point(time=2023-09-25T01:53:52+00:00, measurement=blockchain_transactions, tags=sensor_id:3; status:operational, fields=temperature:12.101218689142875)\n",
      "Point(time=2023-09-25T10:38:33+00:00, measurement=blockchain_transactions, tags=sensor_id:16; status:operational, fields=temperature:6.544468149458595)\n",
      "Point(time=2023-09-25T19:23:14+00:00, measurement=blockchain_transactions, tags=sensor_id:87; status:operational, fields=temperature:12.438878691570153)\n",
      "Point(time=2023-09-26T04:07:55+00:00, measurement=blockchain_transactions, tags=sensor_id:57; status:operational, fields=temperature:23.469520072968066)\n",
      "Point(time=2023-09-26T12:52:36+00:00, measurement=blockchain_transactions, tags=sensor_id:75; status:maintenance, fields=temperature:-2.7121715877624153)\n",
      "Point(time=2023-09-26T21:37:17+00:00, measurement=blockchain_transactions, tags=sensor_id:12; status:operational, fields=temperature:12.471691760686884)\n",
      "Point(time=2023-09-27T06:21:58+00:00, measurement=blockchain_transactions, tags=sensor_id:74; status:operational, fields=temperature:19.39421855551935)\n",
      "Point(time=2023-09-27T15:06:40+00:00, measurement=blockchain_transactions, tags=sensor_id:96; status:operational, fields=temperature:37.429167742571686)\n",
      "Point(time=2023-09-27T23:51:21+00:00, measurement=blockchain_transactions, tags=sensor_id:16; status:operational, fields=temperature:2.626389103770963)\n",
      "Point(time=2023-09-28T08:36:02+00:00, measurement=blockchain_transactions, tags=sensor_id:72; status:operational, fields=temperature:7.9625373958122765)\n",
      "Point(time=2023-09-28T17:20:43+00:00, measurement=blockchain_transactions, tags=sensor_id:76; status:operational, fields=temperature:8.96792949612119)\n",
      "Point(time=2023-09-29T02:05:24+00:00, measurement=blockchain_transactions, tags=sensor_id:24; status:operational, fields=temperature:20.276907882244142)\n",
      "Point(time=2023-09-29T10:50:05+00:00, measurement=blockchain_transactions, tags=sensor_id:28; status:operational, fields=temperature:7.8366026520000815)\n",
      "Point(time=2023-09-29T19:34:46+00:00, measurement=blockchain_transactions, tags=sensor_id:8; status:operational, fields=temperature:16.67559626498478)\n",
      "Point(time=2023-09-30T04:19:27+00:00, measurement=blockchain_transactions, tags=sensor_id:92; status:operational, fields=temperature:29.08951649225147)\n",
      "Point(time=2023-09-30T13:04:08+00:00, measurement=blockchain_transactions, tags=sensor_id:36; status:operational, fields=temperature:25.26927970561018)\n",
      "Point(time=2023-09-30T21:48:49+00:00, measurement=blockchain_transactions, tags=sensor_id:90; status:operational, fields=temperature:12.318432325629278)\n",
      "Point(time=2023-10-01T06:33:30+00:00, measurement=blockchain_transactions, tags=sensor_id:8; status:operational, fields=temperature:33.210808883708445)\n",
      "Point(time=2023-10-01T15:18:11+00:00, measurement=blockchain_transactions, tags=sensor_id:58; status:operational, fields=temperature:17.907012479693144)\n",
      "Point(time=2023-10-02T00:02:52+00:00, measurement=blockchain_transactions, tags=sensor_id:60; status:operational, fields=temperature:16.995291975110625)\n",
      "Point(time=2023-10-02T08:47:34+00:00, measurement=blockchain_transactions, tags=sensor_id:50; status:maintenance, fields=temperature:-8.29061170304209)\n",
      "Point(time=2023-10-02T17:32:15+00:00, measurement=blockchain_transactions, tags=sensor_id:28; status:operational, fields=temperature:39.33464901785808)\n",
      "Point(time=2023-10-03T02:16:56+00:00, measurement=blockchain_transactions, tags=sensor_id:92; status:maintenance, fields=temperature:-3.851459573518664)\n",
      "Point(time=2023-10-03T11:01:37+00:00, measurement=blockchain_transactions, tags=sensor_id:41; status:operational, fields=temperature:1.5565456213823303)\n",
      "Point(time=2023-10-03T19:46:18+00:00, measurement=blockchain_transactions, tags=sensor_id:64; status:operational, fields=temperature:-7.415158137923652)\n",
      "Point(time=2023-10-04T04:30:59+00:00, measurement=blockchain_transactions, tags=sensor_id:27; status:operational, fields=temperature:22.000148341845687)\n",
      "Point(time=2023-10-04T13:15:40+00:00, measurement=blockchain_transactions, tags=sensor_id:63; status:operational, fields=temperature:1.235058848633999)\n",
      "Point(time=2023-10-04T22:00:21+00:00, measurement=blockchain_transactions, tags=sensor_id:17; status:maintenance, fields=temperature:-0.9994781263638259)\n",
      "Point(time=2023-10-05T06:45:02+00:00, measurement=blockchain_transactions, tags=sensor_id:73; status:operational, fields=temperature:-5.572220788837931)\n",
      "Point(time=2023-10-05T15:29:43+00:00, measurement=blockchain_transactions, tags=sensor_id:33; status:operational, fields=temperature:-4.8345521437992165)\n",
      "Point(time=2023-10-06T00:14:24+00:00, measurement=blockchain_transactions, tags=sensor_id:84; status:operational, fields=temperature:19.233535022129438)\n",
      "Point(time=2023-10-06T08:59:05+00:00, measurement=blockchain_transactions, tags=sensor_id:77; status:operational, fields=temperature:24.41039329332977)\n",
      "Point(time=2023-10-06T17:43:47+00:00, measurement=blockchain_transactions, tags=sensor_id:92; status:operational, fields=temperature:9.868949423220052)\n",
      "Point(time=2023-10-07T02:28:28+00:00, measurement=blockchain_transactions, tags=sensor_id:29; status:operational, fields=temperature:13.994854079603662)\n",
      "Point(time=2023-10-07T11:13:09+00:00, measurement=blockchain_transactions, tags=sensor_id:13; status:operational, fields=temperature:24.298386799149206)\n",
      "Point(time=2023-10-07T19:57:50+00:00, measurement=blockchain_transactions, tags=sensor_id:46; status:operational, fields=temperature:-9.131010490726018)\n",
      "Point(time=2023-10-08T04:42:31+00:00, measurement=blockchain_transactions, tags=sensor_id:35; status:operational, fields=temperature:6.1565328535139265)\n",
      "Point(time=2023-10-08T13:27:12+00:00, measurement=blockchain_transactions, tags=sensor_id:6; status:operational, fields=temperature:38.65488740351732)\n",
      "Point(time=2023-10-08T22:11:53+00:00, measurement=blockchain_transactions, tags=sensor_id:82; status:operational, fields=temperature:19.005611484773404)\n",
      "Point(time=2023-10-09T06:56:34+00:00, measurement=blockchain_transactions, tags=sensor_id:69; status:maintenance, fields=temperature:2.711228994874663)\n",
      "Point(time=2023-10-09T15:41:15+00:00, measurement=blockchain_transactions, tags=sensor_id:47; status:operational, fields=temperature:16.086502331810657)\n",
      "Point(time=2023-10-10T00:25:56+00:00, measurement=blockchain_transactions, tags=sensor_id:25; status:operational, fields=temperature:7.132674406045766)\n",
      "Point(time=2023-10-10T09:10:37+00:00, measurement=blockchain_transactions, tags=sensor_id:66; status:operational, fields=temperature:16.612249441314955)\n",
      "Point(time=2023-10-10T17:55:18+00:00, measurement=blockchain_transactions, tags=sensor_id:10; status:operational, fields=temperature:-3.7129244096675587)\n",
      "Point(time=2023-10-11T02:40:00+00:00, measurement=blockchain_transactions, tags=sensor_id:56; status:operational, fields=temperature:-3.364267309036131)\n",
      "Point(time=2023-10-11T11:24:41+00:00, measurement=blockchain_transactions, tags=sensor_id:30; status:maintenance, fields=temperature:-2.8228818980303574)\n",
      "Point(time=2023-10-11T20:09:22+00:00, measurement=blockchain_transactions, tags=sensor_id:5; status:operational, fields=temperature:36.99098959634209)\n",
      "Point(time=2023-10-12T04:54:03+00:00, measurement=blockchain_transactions, tags=sensor_id:33; status:maintenance, fields=temperature:26.64494591706709)\n",
      "Point(time=2023-10-12T13:38:44+00:00, measurement=blockchain_transactions, tags=sensor_id:65; status:operational, fields=temperature:-1.8809052668839552)\n",
      "Point(time=2023-10-12T22:23:25+00:00, measurement=blockchain_transactions, tags=sensor_id:18; status:operational, fields=temperature:-0.5825458117199283)\n",
      "Point(time=2023-10-13T07:08:06+00:00, measurement=blockchain_transactions, tags=sensor_id:96; status:operational, fields=temperature:26.54147374354382)\n",
      "Point(time=2023-10-13T15:52:47+00:00, measurement=blockchain_transactions, tags=sensor_id:49; status:operational, fields=temperature:-2.1918077603913035)\n",
      "Point(time=2023-10-14T00:37:28+00:00, measurement=blockchain_transactions, tags=sensor_id:11; status:operational, fields=temperature:1.7280646667414334)\n",
      "Point(time=2023-10-14T09:22:09+00:00, measurement=blockchain_transactions, tags=sensor_id:85; status:operational, fields=temperature:38.16734164101995)\n",
      "Point(time=2023-10-14T18:06:50+00:00, measurement=blockchain_transactions, tags=sensor_id:26; status:operational, fields=temperature:2.7653262364215934)\n",
      "Point(time=2023-10-15T02:51:31+00:00, measurement=blockchain_transactions, tags=sensor_id:63; status:operational, fields=temperature:23.081617518557337)\n",
      "Point(time=2023-10-15T11:36:12+00:00, measurement=blockchain_transactions, tags=sensor_id:89; status:operational, fields=temperature:38.93156437002652)\n",
      "Point(time=2023-10-15T20:20:54+00:00, measurement=blockchain_transactions, tags=sensor_id:86; status:operational, fields=temperature:8.714838356989631)\n",
      "Point(time=2023-10-16T05:05:35+00:00, measurement=blockchain_transactions, tags=sensor_id:59; status:operational, fields=temperature:-9.124200456896888)\n",
      "Point(time=2023-10-16T13:50:16+00:00, measurement=blockchain_transactions, tags=sensor_id:27; status:operational, fields=temperature:2.2073645211187127)\n",
      "Point(time=2023-10-16T22:34:57+00:00, measurement=blockchain_transactions, tags=sensor_id:49; status:operational, fields=temperature:31.54385956708527)\n",
      "Point(time=2023-10-17T07:19:38+00:00, measurement=blockchain_transactions, tags=sensor_id:77; status:operational, fields=temperature:33.23044179775184)\n",
      "Point(time=2023-10-17T16:04:19+00:00, measurement=blockchain_transactions, tags=sensor_id:33; status:operational, fields=temperature:28.42596822618956)\n",
      "Point(time=2023-10-18T00:49:00+00:00, measurement=blockchain_transactions, tags=sensor_id:98; status:operational, fields=temperature:-4.344509046171349)\n",
      "Point(time=2023-10-18T09:33:41+00:00, measurement=blockchain_transactions, tags=sensor_id:99; status:maintenance, fields=temperature:29.775518584820155)\n",
      "Point(time=2023-10-18T18:18:22+00:00, measurement=blockchain_transactions, tags=sensor_id:1; status:operational, fields=temperature:35.93388984967521)\n",
      "Point(time=2023-10-19T03:03:03+00:00, measurement=blockchain_transactions, tags=sensor_id:21; status:operational, fields=temperature:20.030477127311805)\n",
      "Point(time=2023-10-19T11:47:44+00:00, measurement=blockchain_transactions, tags=sensor_id:55; status:operational, fields=temperature:37.04376781690324)\n",
      "Point(time=2023-10-19T20:32:25+00:00, measurement=blockchain_transactions, tags=sensor_id:6; status:operational, fields=temperature:31.341944185593874)\n",
      "Point(time=2023-10-20T05:17:07+00:00, measurement=blockchain_transactions, tags=sensor_id:92; status:operational, fields=temperature:23.348575849545362)\n",
      "Point(time=2023-10-20T14:01:48+00:00, measurement=blockchain_transactions, tags=sensor_id:81; status:operational, fields=temperature:18.859261835587407)\n",
      "Point(time=2023-10-20T22:46:29+00:00, measurement=blockchain_transactions, tags=sensor_id:69; status:operational, fields=temperature:7.428683362098525)\n",
      "Point(time=2023-10-21T07:31:10+00:00, measurement=blockchain_transactions, tags=sensor_id:95; status:operational, fields=temperature:-2.035627737859743)\n",
      "Point(time=2023-10-21T16:15:51+00:00, measurement=blockchain_transactions, tags=sensor_id:5; status:operational, fields=temperature:20.24769613452704)\n",
      "Point(time=2023-10-22T01:00:32+00:00, measurement=blockchain_transactions, tags=sensor_id:3; status:operational, fields=temperature:5.905577680905974)\n",
      "Point(time=2023-10-22T09:45:13+00:00, measurement=blockchain_transactions, tags=sensor_id:53; status:operational, fields=temperature:33.32193337638227)\n",
      "Point(time=2023-10-22T18:29:54+00:00, measurement=blockchain_transactions, tags=sensor_id:23; status:offline, fields=temperature:39.666846867931426)\n",
      "Point(time=2023-10-23T03:14:35+00:00, measurement=blockchain_transactions, tags=sensor_id:53; status:operational, fields=temperature:27.621388130778627)\n",
      "Point(time=2023-10-23T11:59:16+00:00, measurement=blockchain_transactions, tags=sensor_id:37; status:maintenance, fields=temperature:-5.475915235647463)\n",
      "Point(time=2023-10-23T20:43:57+00:00, measurement=blockchain_transactions, tags=sensor_id:74; status:operational, fields=temperature:4.4342797765319055)\n",
      "Point(time=2023-10-24T05:28:38+00:00, measurement=blockchain_transactions, tags=sensor_id:74; status:operational, fields=temperature:-4.544518411712514)\n",
      "Point(time=2023-10-24T14:13:20+00:00, measurement=blockchain_transactions, tags=sensor_id:83; status:operational, fields=temperature:22.525582389585786)\n",
      "Point(time=2023-10-24T22:58:01+00:00, measurement=blockchain_transactions, tags=sensor_id:17; status:operational, fields=temperature:28.25954322778923)\n",
      "Point(time=2023-10-25T07:42:42+00:00, measurement=blockchain_transactions, tags=sensor_id:85; status:operational, fields=temperature:36.28374154403559)\n",
      "Point(time=2023-10-25T16:27:23+00:00, measurement=blockchain_transactions, tags=sensor_id:78; status:operational, fields=temperature:11.908617320599383)\n",
      "Point(time=2023-10-26T01:12:04+00:00, measurement=blockchain_transactions, tags=sensor_id:73; status:operational, fields=temperature:35.06878247942222)\n",
      "Point(time=2023-10-26T09:56:45+00:00, measurement=blockchain_transactions, tags=sensor_id:1; status:operational, fields=temperature:33.89455795206638)\n",
      "Point(time=2023-10-26T18:41:26+00:00, measurement=blockchain_transactions, tags=sensor_id:51; status:operational, fields=temperature:5.85978583826993)\n",
      "Point(time=2023-10-27T03:26:07+00:00, measurement=blockchain_transactions, tags=sensor_id:45; status:operational, fields=temperature:33.44503127702855)\n",
      "Point(time=2023-10-27T12:10:48+00:00, measurement=blockchain_transactions, tags=sensor_id:77; status:operational, fields=temperature:8.783612594086325)\n",
      "Point(time=2023-10-27T20:55:29+00:00, measurement=blockchain_transactions, tags=sensor_id:4; status:operational, fields=temperature:4.84346372801404)\n",
      "Point(time=2023-10-28T05:40:10+00:00, measurement=blockchain_transactions, tags=sensor_id:62; status:maintenance, fields=temperature:22.453732939719657)\n",
      "Point(time=2023-10-28T14:24:51+00:00, measurement=blockchain_transactions, tags=sensor_id:65; status:maintenance, fields=temperature:6.419061394254054)\n",
      "Point(time=2023-10-28T23:09:32+00:00, measurement=blockchain_transactions, tags=sensor_id:32; status:operational, fields=temperature:21.51043741645721)\n",
      "Point(time=2023-10-29T07:54:14+00:00, measurement=blockchain_transactions, tags=sensor_id:34; status:operational, fields=temperature:20.491590274934726)\n",
      "Point(time=2023-10-29T16:38:55+00:00, measurement=blockchain_transactions, tags=sensor_id:92; status:operational, fields=temperature:18.17194636742294)\n",
      "Point(time=2023-10-30T01:23:36+00:00, measurement=blockchain_transactions, tags=sensor_id:95; status:operational, fields=temperature:9.020985211639886)\n",
      "Point(time=2023-10-30T10:08:17+00:00, measurement=blockchain_transactions, tags=sensor_id:72; status:operational, fields=temperature:17.424986082573838)\n",
      "Point(time=2023-10-30T18:52:58+00:00, measurement=blockchain_transactions, tags=sensor_id:39; status:operational, fields=temperature:19.82427374927108)\n",
      "Point(time=2023-10-31T03:37:39+00:00, measurement=blockchain_transactions, tags=sensor_id:26; status:operational, fields=temperature:17.28434442477367)\n",
      "Point(time=2023-10-31T12:22:20+00:00, measurement=blockchain_transactions, tags=sensor_id:34; status:operational, fields=temperature:12.220972637560077)\n",
      "Point(time=2023-10-31T21:07:01+00:00, measurement=blockchain_transactions, tags=sensor_id:54; status:operational, fields=temperature:-9.26664714768681)\n",
      "Point(time=2023-11-01T05:51:42+00:00, measurement=blockchain_transactions, tags=sensor_id:3; status:operational, fields=temperature:19.353085385057547)\n",
      "Point(time=2023-11-01T14:36:23+00:00, measurement=blockchain_transactions, tags=sensor_id:50; status:maintenance, fields=temperature:-1.577780742864018)\n",
      "Point(time=2023-11-01T23:21:04+00:00, measurement=blockchain_transactions, tags=sensor_id:12; status:operational, fields=temperature:22.12879844735948)\n",
      "Point(time=2023-11-02T08:05:45+00:00, measurement=blockchain_transactions, tags=sensor_id:65; status:operational, fields=temperature:27.9672163961433)\n",
      "Point(time=2023-11-02T16:50:27+00:00, measurement=blockchain_transactions, tags=sensor_id:54; status:offline, fields=temperature:15.022265456537074)\n",
      "Point(time=2023-11-03T01:35:08+00:00, measurement=blockchain_transactions, tags=sensor_id:5; status:operational, fields=temperature:17.118183248986917)\n",
      "Point(time=2023-11-03T10:19:49+00:00, measurement=blockchain_transactions, tags=sensor_id:94; status:operational, fields=temperature:37.573927983299555)\n",
      "Point(time=2023-11-03T19:04:30+00:00, measurement=blockchain_transactions, tags=sensor_id:94; status:operational, fields=temperature:32.35836806862871)\n",
      "Point(time=2023-11-04T03:49:11+00:00, measurement=blockchain_transactions, tags=sensor_id:57; status:operational, fields=temperature:35.711825797573496)\n",
      "Point(time=2023-11-04T12:33:52+00:00, measurement=blockchain_transactions, tags=sensor_id:17; status:operational, fields=temperature:30.68831441597932)\n",
      "Point(time=2023-11-04T21:18:33+00:00, measurement=blockchain_transactions, tags=sensor_id:47; status:operational, fields=temperature:-4.554082907663428)\n",
      "Point(time=2023-11-05T06:03:14+00:00, measurement=blockchain_transactions, tags=sensor_id:23; status:maintenance, fields=temperature:-2.5504072014902643)\n",
      "Point(time=2023-11-05T14:47:55+00:00, measurement=blockchain_transactions, tags=sensor_id:79; status:operational, fields=temperature:16.331189863447978)\n",
      "Point(time=2023-11-05T23:32:36+00:00, measurement=blockchain_transactions, tags=sensor_id:85; status:operational, fields=temperature:2.3034829398999115)\n",
      "Point(time=2023-11-06T08:17:17+00:00, measurement=blockchain_transactions, tags=sensor_id:14; status:operational, fields=temperature:13.83477375205796)\n",
      "Point(time=2023-11-06T17:01:58+00:00, measurement=blockchain_transactions, tags=sensor_id:66; status:operational, fields=temperature:9.718266190917511)\n",
      "Point(time=2023-11-07T01:46:40+00:00, measurement=blockchain_transactions, tags=sensor_id:75; status:operational, fields=temperature:17.470711921522668)\n",
      "Point(time=2023-11-07T10:31:21+00:00, measurement=blockchain_transactions, tags=sensor_id:51; status:operational, fields=temperature:27.343785806791132)\n",
      "Point(time=2023-11-07T19:16:02+00:00, measurement=blockchain_transactions, tags=sensor_id:38; status:operational, fields=temperature:25.77454535496372)\n",
      "Point(time=2023-11-08T04:00:43+00:00, measurement=blockchain_transactions, tags=sensor_id:64; status:operational, fields=temperature:16.061706624266716)\n",
      "Point(time=2023-11-08T12:45:24+00:00, measurement=blockchain_transactions, tags=sensor_id:98; status:maintenance, fields=temperature:31.119670940852906)\n",
      "Point(time=2023-11-08T21:30:05+00:00, measurement=blockchain_transactions, tags=sensor_id:38; status:operational, fields=temperature:11.543104576901666)\n",
      "Point(time=2023-11-09T06:14:46+00:00, measurement=blockchain_transactions, tags=sensor_id:50; status:operational, fields=temperature:34.83571449200612)\n",
      "Point(time=2023-11-09T14:59:27+00:00, measurement=blockchain_transactions, tags=sensor_id:98; status:operational, fields=temperature:-6.435986497241805)\n",
      "Point(time=2023-11-09T23:44:08+00:00, measurement=blockchain_transactions, tags=sensor_id:82; status:maintenance, fields=temperature:37.73300150166537)\n",
      "Point(time=2023-11-10T08:28:49+00:00, measurement=blockchain_transactions, tags=sensor_id:30; status:operational, fields=temperature:22.734654071567412)\n",
      "Point(time=2023-11-10T17:13:30+00:00, measurement=blockchain_transactions, tags=sensor_id:79; status:offline, fields=temperature:9.003725446860265)\n",
      "Point(time=2023-11-11T01:58:11+00:00, measurement=blockchain_transactions, tags=sensor_id:91; status:operational, fields=temperature:-0.14229367135613202)\n",
      "Point(time=2023-11-11T10:42:52+00:00, measurement=blockchain_transactions, tags=sensor_id:51; status:operational, fields=temperature:13.959161472179996)\n",
      "Point(time=2023-11-11T19:27:34+00:00, measurement=blockchain_transactions, tags=sensor_id:63; status:operational, fields=temperature:-0.2720838407349504)\n",
      "Point(time=2023-11-12T04:12:15+00:00, measurement=blockchain_transactions, tags=sensor_id:98; status:operational, fields=temperature:-1.6834196128428918)\n",
      "Point(time=2023-11-12T12:56:56+00:00, measurement=blockchain_transactions, tags=sensor_id:52; status:operational, fields=temperature:20.86758787064871)\n",
      "Point(time=2023-11-12T21:41:37+00:00, measurement=blockchain_transactions, tags=sensor_id:38; status:operational, fields=temperature:16.154236229089236)\n",
      "Point(time=2023-11-13T06:26:18+00:00, measurement=blockchain_transactions, tags=sensor_id:97; status:operational, fields=temperature:23.504801730547086)\n",
      "Point(time=2023-11-13T15:10:59+00:00, measurement=blockchain_transactions, tags=sensor_id:88; status:operational, fields=temperature:36.48029387109946)\n",
      "Point(time=2023-11-13T23:55:40+00:00, measurement=blockchain_transactions, tags=sensor_id:79; status:maintenance, fields=temperature:16.613010666952007)\n",
      "Point(time=2023-11-14T08:40:21+00:00, measurement=blockchain_transactions, tags=sensor_id:30; status:operational, fields=temperature:19.046602663139886)\n",
      "Point(time=2023-11-14T17:25:02+00:00, measurement=blockchain_transactions, tags=sensor_id:51; status:maintenance, fields=temperature:-5.518683042252894)\n",
      "\n",
      "Time Query Count:\n",
      "167\n"
     ]
    }
   ],
   "source": [
    "# Search for a time value\n",
    "Time = TimeQuery()\n",
    "time_start = Time >= datetime(2023, 9, 15, tzinfo=timezone.utc)\n",
    "time_end = Time < datetime(2023, 11, 15, tzinfo=timezone.utc)\n",
    "time_count = db.count(time_start & time_end)\n",
    "entries = db.search(time_start & time_end)\n",
    "\n",
    "#print(\"\\nTime Query Count:\")\n",
    "print(\"\\nEntries from the database:\")\n",
    "for entry in entries:\n",
    "    print(entry)\n",
    "    \n",
    "#print(time_count)\n",
    "print(\"\\nTime Query Count:\")\n",
    "print(time_count)"
   ]
  },
  {
   "cell_type": "markdown",
   "metadata": {},
   "source": [
    "## Querying by Field"
   ]
  },
  {
   "cell_type": "code",
   "execution_count": 16,
   "metadata": {
    "collapsed": true,
    "jupyter": {
     "outputs_hidden": true
    },
    "tags": []
   },
   "outputs": [
    {
     "name": "stdout",
     "output_type": "stream",
     "text": [
      "\n",
      "Field Query Results:\n",
      "20.37776111467864\n",
      "36.68459118799373\n",
      "32.54087589180731\n",
      "30.293244337057175\n",
      "32.11570176490908\n",
      "24.848073118321075\n",
      "39.86277673841972\n",
      "34.83051314870104\n",
      "35.86978065427658\n",
      "38.753358147257124\n"
     ]
    }
   ],
   "source": [
    "# Search for a field value\n",
    "Field = FieldQuery()\n",
    "field_results = db.select(\"fields.temperature\", Field.temperature > 20)\n",
    "print(\"\\nField Query Results:\")\n",
    "for result in field_results[:10]:\n",
    "    print(result)\n",
    "          "
   ]
  },
  {
   "cell_type": "markdown",
   "metadata": {},
   "source": [
    "## Querying by Tag"
   ]
  },
  {
   "cell_type": "code",
   "execution_count": 17,
   "metadata": {
    "collapsed": true,
    "jupyter": {
     "outputs_hidden": true
    },
    "tags": []
   },
   "outputs": [
    {
     "name": "stdout",
     "output_type": "stream",
     "text": [
      "Tag Query Results:\n",
      "Point(time=2023-03-03T05:07:01+00:00, measurement=blockchain_transactions, tags=sensor_id:32; status:offline, fields=temperature:13.28500611594066)\n",
      "Point(time=2023-03-17T10:09:43+00:00, measurement=blockchain_transactions, tags=sensor_id:32; status:operational, fields=temperature:28.26781405331203)\n",
      "Point(time=2023-03-27T06:16:12+00:00, measurement=blockchain_transactions, tags=sensor_id:32; status:operational, fields=temperature:38.13246592774373)\n",
      "Point(time=2023-03-27T23:45:35+00:00, measurement=blockchain_transactions, tags=sensor_id:32; status:operational, fields=temperature:-2.9459075611143213)\n",
      "Point(time=2023-04-17T18:12:36+00:00, measurement=blockchain_transactions, tags=sensor_id:32; status:operational, fields=temperature:14.71369250691357)\n",
      "Point(time=2023-05-19T19:44:51+00:00, measurement=blockchain_transactions, tags=sensor_id:32; status:operational, fields=temperature:30.198848970044878)\n",
      "Point(time=2023-05-24T04:41:04+00:00, measurement=blockchain_transactions, tags=sensor_id:32; status:operational, fields=temperature:9.198194495986286)\n",
      "Point(time=2023-06-07T00:59:05+00:00, measurement=blockchain_transactions, tags=sensor_id:32; status:operational, fields=temperature:10.079011821274374)\n",
      "Point(time=2023-07-16T00:40:21+00:00, measurement=blockchain_transactions, tags=sensor_id:32; status:operational, fields=temperature:23.80261285933772)\n",
      "Point(time=2023-09-17T10:15:29+00:00, measurement=blockchain_transactions, tags=sensor_id:32; status:operational, fields=temperature:15.630760260290259)\n",
      "Point(time=2023-10-28T23:09:32+00:00, measurement=blockchain_transactions, tags=sensor_id:32; status:operational, fields=temperature:21.51043741645721)\n",
      "Point(time=2023-11-27T20:13:41+00:00, measurement=blockchain_transactions, tags=sensor_id:32; status:offline, fields=temperature:30.47649878842209)\n",
      "Point(time=2024-01-01T12:00:00+00:00, measurement=transactions, tags=sensor_id:32; status:offline, fields=temperature:13.28500611594066)\n",
      "Point(time=2024-01-01T12:00:00+00:00, measurement=transactions, tags=sensor_id:32; status:operational, fields=temperature:28.26781405331203)\n",
      "Point(time=2024-01-01T12:00:00+00:00, measurement=transactions, tags=sensor_id:32; status:operational, fields=temperature:38.13246592774373)\n",
      "Point(time=2024-01-01T12:00:00+00:00, measurement=transactions, tags=sensor_id:32; status:operational, fields=temperature:-2.9459075611143213)\n",
      "Point(time=2024-01-01T12:00:00+00:00, measurement=transactions, tags=sensor_id:32; status:operational, fields=temperature:14.71369250691357)\n",
      "Point(time=2024-01-01T12:00:00+00:00, measurement=transactions, tags=sensor_id:32; status:operational, fields=temperature:30.198848970044878)\n",
      "Point(time=2024-01-01T12:00:00+00:00, measurement=transactions, tags=sensor_id:32; status:operational, fields=temperature:9.198194495986286)\n",
      "Point(time=2024-01-01T12:00:00+00:00, measurement=transactions, tags=sensor_id:32; status:operational, fields=temperature:10.079011821274374)\n",
      "Point(time=2024-01-01T12:00:00+00:00, measurement=transactions, tags=sensor_id:32; status:operational, fields=temperature:23.80261285933772)\n",
      "Point(time=2024-01-01T12:00:00+00:00, measurement=transactions, tags=sensor_id:32; status:operational, fields=temperature:15.630760260290259)\n",
      "Point(time=2024-01-01T12:00:00+00:00, measurement=transactions, tags=sensor_id:32; status:operational, fields=temperature:21.51043741645721)\n",
      "Point(time=2024-01-01T12:00:00+00:00, measurement=transactions, tags=sensor_id:32; status:offline, fields=temperature:30.47649878842209)\n",
      "Point(time=2024-01-01T12:00:00+00:00, measurement=transactions, tags=sensor_id:32; status:offline, fields=temperature:13.28500611594066)\n",
      "Point(time=2024-01-01T12:00:00+00:00, measurement=transactions, tags=sensor_id:32; status:operational, fields=temperature:28.26781405331203)\n",
      "Point(time=2024-01-01T12:00:00+00:00, measurement=transactions, tags=sensor_id:32; status:operational, fields=temperature:38.13246592774373)\n",
      "Point(time=2024-01-01T12:00:00+00:00, measurement=transactions, tags=sensor_id:32; status:operational, fields=temperature:-2.9459075611143213)\n",
      "Point(time=2024-01-01T12:00:00+00:00, measurement=transactions, tags=sensor_id:32; status:operational, fields=temperature:14.71369250691357)\n",
      "Point(time=2024-01-01T12:00:00+00:00, measurement=transactions, tags=sensor_id:32; status:operational, fields=temperature:30.198848970044878)\n",
      "Point(time=2024-01-01T12:00:00+00:00, measurement=transactions, tags=sensor_id:32; status:operational, fields=temperature:9.198194495986286)\n",
      "Point(time=2024-01-01T12:00:00+00:00, measurement=transactions, tags=sensor_id:32; status:operational, fields=temperature:10.079011821274374)\n",
      "Point(time=2024-01-01T12:00:00+00:00, measurement=transactions, tags=sensor_id:32; status:operational, fields=temperature:23.80261285933772)\n",
      "Point(time=2024-01-01T12:00:00+00:00, measurement=transactions, tags=sensor_id:32; status:operational, fields=temperature:15.630760260290259)\n",
      "Point(time=2024-01-01T12:00:00+00:00, measurement=transactions, tags=sensor_id:32; status:operational, fields=temperature:21.51043741645721)\n",
      "Point(time=2024-01-01T12:00:00+00:00, measurement=transactions, tags=sensor_id:32; status:offline, fields=temperature:30.47649878842209)\n",
      "Point(time=2024-01-01T12:00:00+00:00, measurement=transactions, tags=sensor_id:32; status:offline; device_type:router, fields=temperature:13.28500611594066)\n",
      "Point(time=2024-01-01T12:00:00+00:00, measurement=transactions, tags=sensor_id:32; status:operational; device_type:router, fields=temperature:28.26781405331203)\n",
      "Point(time=2024-01-01T12:00:00+00:00, measurement=transactions, tags=sensor_id:32; status:operational; device_type:router, fields=temperature:38.13246592774373)\n",
      "Point(time=2024-01-01T12:00:00+00:00, measurement=transactions, tags=sensor_id:32; status:operational; device_type:router, fields=temperature:-2.9459075611143213)\n",
      "Point(time=2024-01-01T12:00:00+00:00, measurement=transactions, tags=sensor_id:32; status:operational; device_type:router, fields=temperature:14.71369250691357)\n",
      "Point(time=2024-01-01T12:00:00+00:00, measurement=transactions, tags=sensor_id:32; status:operational; device_type:router, fields=temperature:30.198848970044878)\n",
      "Point(time=2024-01-01T12:00:00+00:00, measurement=transactions, tags=sensor_id:32; status:operational; device_type:router, fields=temperature:9.198194495986286)\n",
      "Point(time=2024-01-01T12:00:00+00:00, measurement=transactions, tags=sensor_id:32; status:operational; device_type:router, fields=temperature:10.079011821274374)\n",
      "Point(time=2024-01-01T12:00:00+00:00, measurement=transactions, tags=sensor_id:32; status:operational; device_type:router, fields=temperature:23.80261285933772)\n",
      "Point(time=2024-01-01T12:00:00+00:00, measurement=transactions, tags=sensor_id:32; status:operational; device_type:router, fields=temperature:15.630760260290259)\n",
      "Point(time=2024-01-01T12:00:00+00:00, measurement=transactions, tags=sensor_id:32; status:operational; device_type:router, fields=temperature:21.51043741645721)\n",
      "Point(time=2024-01-01T12:00:00+00:00, measurement=transactions, tags=sensor_id:32; status:offline; device_type:router, fields=temperature:30.47649878842209)\n",
      "Point(time=2024-01-01T12:00:00+00:00, measurement=transactions, tags=sensor_id:32; status:offline; device_type:router, fields=temperature:13.28500611594066)\n",
      "Point(time=2024-01-01T12:00:00+00:00, measurement=transactions, tags=sensor_id:32; status:operational; device_type:router, fields=temperature:28.26781405331203)\n",
      "Point(time=2024-01-01T12:00:00+00:00, measurement=transactions, tags=sensor_id:32; status:operational; device_type:router, fields=temperature:38.13246592774373)\n",
      "Point(time=2024-01-01T12:00:00+00:00, measurement=transactions, tags=sensor_id:32; status:operational; device_type:router, fields=temperature:-2.9459075611143213)\n",
      "Point(time=2024-01-01T12:00:00+00:00, measurement=transactions, tags=sensor_id:32; status:operational; device_type:router, fields=temperature:14.71369250691357)\n",
      "Point(time=2024-01-01T12:00:00+00:00, measurement=transactions, tags=sensor_id:32; status:operational; device_type:router, fields=temperature:30.198848970044878)\n",
      "Point(time=2024-01-01T12:00:00+00:00, measurement=transactions, tags=sensor_id:32; status:operational; device_type:router, fields=temperature:9.198194495986286)\n",
      "Point(time=2024-01-01T12:00:00+00:00, measurement=transactions, tags=sensor_id:32; status:operational; device_type:router, fields=temperature:10.079011821274374)\n",
      "Point(time=2024-01-01T12:00:00+00:00, measurement=transactions, tags=sensor_id:32; status:operational; device_type:router, fields=temperature:23.80261285933772)\n",
      "Point(time=2024-01-01T12:00:00+00:00, measurement=transactions, tags=sensor_id:32; status:operational; device_type:router, fields=temperature:15.630760260290259)\n",
      "Point(time=2024-01-01T12:00:00+00:00, measurement=transactions, tags=sensor_id:32; status:operational; device_type:router, fields=temperature:21.51043741645721)\n",
      "Point(time=2024-01-01T12:00:00+00:00, measurement=transactions, tags=sensor_id:32; status:offline; device_type:router, fields=temperature:30.47649878842209)\n",
      "Point(time=2024-01-01T12:00:00+00:00, measurement=transactions, tags=sensor_id:32; status:offline; device_type:router, fields=temperature:13.28500611594066)\n",
      "Point(time=2024-01-01T12:00:00+00:00, measurement=transactions, tags=sensor_id:32; status:operational; device_type:router, fields=temperature:28.26781405331203)\n",
      "Point(time=2024-01-01T12:00:00+00:00, measurement=transactions, tags=sensor_id:32; status:operational; device_type:router, fields=temperature:38.13246592774373)\n",
      "Point(time=2024-01-01T12:00:00+00:00, measurement=transactions, tags=sensor_id:32; status:operational; device_type:router, fields=temperature:-2.9459075611143213)\n",
      "Point(time=2024-01-01T12:00:00+00:00, measurement=transactions, tags=sensor_id:32; status:operational; device_type:router, fields=temperature:14.71369250691357)\n",
      "Point(time=2024-01-01T12:00:00+00:00, measurement=transactions, tags=sensor_id:32; status:operational; device_type:router, fields=temperature:30.198848970044878)\n",
      "Point(time=2024-01-01T12:00:00+00:00, measurement=transactions, tags=sensor_id:32; status:operational; device_type:router, fields=temperature:9.198194495986286)\n",
      "Point(time=2024-01-01T12:00:00+00:00, measurement=transactions, tags=sensor_id:32; status:operational; device_type:router, fields=temperature:10.079011821274374)\n",
      "Point(time=2024-01-01T12:00:00+00:00, measurement=transactions, tags=sensor_id:32; status:operational; device_type:router, fields=temperature:23.80261285933772)\n",
      "Point(time=2024-01-01T12:00:00+00:00, measurement=transactions, tags=sensor_id:32; status:operational; device_type:router, fields=temperature:15.630760260290259)\n",
      "Point(time=2024-01-01T12:00:00+00:00, measurement=transactions, tags=sensor_id:32; status:operational; device_type:router, fields=temperature:21.51043741645721)\n",
      "Point(time=2024-01-01T12:00:00+00:00, measurement=transactions, tags=sensor_id:32; status:offline; device_type:router, fields=temperature:30.47649878842209)\n"
     ]
    }
   ],
   "source": [
    "# Search for a tag value\n",
    "Tag = TagQuery()\n",
    "tag_results = db.search(Tag.sensor_id == '32')\n",
    "print(\"Tag Query Results:\")\n",
    "for result in tag_results:\n",
    "    print(result)"
   ]
  }
 ],
 "metadata": {
  "kernelspec": {
   "display_name": "Python 3 (ipykernel)",
   "language": "python",
   "name": "python3"
  },
  "language_info": {
   "codemirror_mode": {
    "name": "ipython",
    "version": 3
   },
   "file_extension": ".py",
   "mimetype": "text/x-python",
   "name": "python",
   "nbconvert_exporter": "python",
   "pygments_lexer": "ipython3",
   "version": "3.12.1"
  }
 },
 "nbformat": 4,
 "nbformat_minor": 4
}
